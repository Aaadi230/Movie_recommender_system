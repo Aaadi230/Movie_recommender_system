{
 "cells": [
  {
   "cell_type": "code",
   "execution_count": 1,
   "id": "9a24d2c2-581a-4522-bb9c-ac6fbcf28326",
   "metadata": {},
   "outputs": [
    {
     "name": "stderr",
     "output_type": "stream",
     "text": [
      "C:\\Users\\adity\\AppData\\Local\\Temp\\ipykernel_30268\\1097958251.py:88: SettingWithCopyWarning: \n",
      "A value is trying to be set on a copy of a slice from a DataFrame.\n",
      "Try using .loc[row_indexer,col_indexer] = value instead\n",
      "\n",
      "See the caveats in the documentation: https://pandas.pydata.org/pandas-docs/stable/user_guide/indexing.html#returning-a-view-versus-a-copy\n",
      "  new_df['tags'] = new_df['tags'].apply(lambda x:\" \".join(x))\n",
      "C:\\Users\\adity\\AppData\\Local\\Temp\\ipykernel_30268\\1097958251.py:92: SettingWithCopyWarning: \n",
      "A value is trying to be set on a copy of a slice from a DataFrame.\n",
      "Try using .loc[row_indexer,col_indexer] = value instead\n",
      "\n",
      "See the caveats in the documentation: https://pandas.pydata.org/pandas-docs/stable/user_guide/indexing.html#returning-a-view-versus-a-copy\n",
      "  new_df['tags'] = new_df['tags'].apply(lambda x:x.lower())\n",
      "C:\\Users\\adity\\AppData\\Local\\Temp\\ipykernel_30268\\1097958251.py:120: SettingWithCopyWarning: \n",
      "A value is trying to be set on a copy of a slice from a DataFrame.\n",
      "Try using .loc[row_indexer,col_indexer] = value instead\n",
      "\n",
      "See the caveats in the documentation: https://pandas.pydata.org/pandas-docs/stable/user_guide/indexing.html#returning-a-view-versus-a-copy\n",
      "  new_df['tags'] = new_df['tags'].apply(stem)\n"
     ]
    },
    {
     "name": "stdout",
     "output_type": "stream",
     "text": [
      "The Dark Knight\n",
      "The Dark Knight Rises\n",
      "Amidst the Devil's Wings\n",
      "Batman\n",
      "Batman & Robin\n"
     ]
    }
   ],
   "source": [
    "import numpy as np\n",
    "import pandas as pd\n",
    "\n",
    "import os\n",
    "for dirname, _, filenames in os.walk('/kaggle/input'):\n",
    "    for filename in filenames:\n",
    "        print(os.path.join(dirname, filename))\n",
    "\n",
    "movies = pd.read_csv(\"C:/ml project/tmdb_5000_movies.csv\")\n",
    "credits = pd.read_csv(\"C:/ml project/tmdb_5000_credits.csv\")\n",
    "\n",
    "movies.head()\n",
    "\n",
    "movies.shape\n",
    "\n",
    "credits.head()\n",
    "\n",
    "movies = movies.merge(credits,on='title')\n",
    "\n",
    "movies = movies[['movie_id','title','overview','genres','keywords','cast','crew']]\n",
    "\n",
    "\n",
    "\n",
    "movies.head()\n",
    "\n",
    "import ast\n",
    "\n",
    "def convert(text):\n",
    "    L = []\n",
    "    for i in ast.literal_eval(text):\n",
    "        L.append(i['name'])\n",
    "    return L\n",
    "\n",
    "movies.dropna(inplace=True)\n",
    "\n",
    "movies['genres'] = movies['genres'].apply(convert)\n",
    "movies.head()\n",
    "\n",
    "movies['keywords'] = movies['keywords'].apply(convert)\n",
    "movies.head()\n",
    "\n",
    "import ast\n",
    "ast.literal_eval('[{\"id\": 28, \"name\": \"Action\"}, {\"id\": 12, \"name\": \"Adventure\"}, {\"id\": 14, \"name\": \"Fantasy\"}, {\"id\": 878, \"name\": \"Science Fiction\"}]')\n",
    "\n",
    "def convert3(text):\n",
    "    L = []\n",
    "    counter = 0\n",
    "    for i in ast.literal_eval(text):\n",
    "        if counter < 3:\n",
    "            L.append(i['name'])\n",
    "        counter+=1\n",
    "    return L\n",
    "\n",
    "movies['cast'] = movies['cast'].apply(convert)\n",
    "movies.head()\n",
    "\n",
    "def fetch_director(obj):\n",
    "    L = []\n",
    "    for i in ast.literal_eval(obj):\n",
    "        if i['job'] == 'Director':\n",
    "           L.append(i['name'])\n",
    "           break\n",
    "    return L\n",
    "\n",
    "movies['crew'] = movies['crew'].apply(fetch_director)\n",
    "\n",
    "movies.head()\n",
    "\n",
    "movies['overview'][0]\n",
    "\n",
    "movies['overview'] = movies['overview'].apply(lambda x:x.split())\n",
    "\n",
    "movies.head()\n",
    "\n",
    "movies['genres'] = movies['genres'].apply(lambda x:[i.replace(\" \",\"\") for i in x])\n",
    "movies['keywords'] = movies['keywords'].apply(lambda x:[i.replace(\" \",\"\") for i in x])\n",
    "movies['cast'] = movies['cast'].apply(lambda x:[i.replace(\" \",\"\") for i in x])\n",
    "movies['crew'] = movies['crew'].apply(lambda x:[i.replace(\" \",\"\") for i in x])\n",
    "\n",
    "movies.head()\n",
    "\n",
    "movies['tags'] = movies['overview'] + movies['genres'] + movies['keywords'] + movies['cast'] + movies['crew']\n",
    "\n",
    "movies.head()\n",
    "\n",
    "new_df = movies[['movie_id','title','tags']]\n",
    "\n",
    "new_df['tags'] = new_df['tags'].apply(lambda x:\" \".join(x))\n",
    "\n",
    "new_df['tags'][10]\n",
    "\n",
    "new_df['tags'] = new_df['tags'].apply(lambda x:x.lower())\n",
    "\n",
    "new_df.head()\n",
    "\n",
    "new_df['tags'][0]\n",
    "\n",
    "new_df['tags'][1]\n",
    "\n",
    "from sklearn.feature_extraction.text import CountVectorizer\n",
    "cv = CountVectorizer(max_features=5000,stop_words='english')\n",
    "\n",
    "vectors = cv.fit_transform(new_df['tags']).toarray()\n",
    "\n",
    "vectors\n",
    "\n",
    "import nltk\n",
    "\n",
    "from nltk.stem.porter import PorterStemmer\n",
    "ps = PorterStemmer()\n",
    "\n",
    "def stem(text):\n",
    "  y = []\n",
    "\n",
    "  for i in text.split():\n",
    "    y.append(ps.stem(i))\n",
    "\n",
    "  return \" \".join(y)\n",
    "\n",
    "new_df['tags'] = new_df['tags'].apply(stem)\n",
    "\n",
    "from sklearn.metrics.pairwise import cosine_similarity\n",
    "\n",
    "similarity = cosine_similarity(vectors)\n",
    "\n",
    "similarity[1]\n",
    "\n",
    "def recommend(movie):\n",
    "    movie_index = new_df[new_df['title'] == movie].index[0]\n",
    "    distances = similarity[movie_index]\n",
    "    movies_list = sorted(list(enumerate(distances)),reverse=True,key = lambda x: x[1])[1:6]\n",
    "\n",
    "    for i in movies_list:\n",
    "        print(new_df.iloc[i[0]].title)\n",
    "\n",
    "recommend('Batman Begins')\n"
   ]
  },
  {
   "cell_type": "code",
   "execution_count": 2,
   "id": "71b26284-3b54-4d31-85a9-4eb490b08d73",
   "metadata": {},
   "outputs": [],
   "source": [
    "import pickle\n",
    "\n",
    "pickle.dump(new_df,open('movies.pkl','wb'))"
   ]
  },
  {
   "cell_type": "code",
   "execution_count": 4,
   "id": "7cc30235-0772-429a-b302-2373bd6baec5",
   "metadata": {},
   "outputs": [
    {
     "data": {
      "text/plain": [
       "array(['Avatar', \"Pirates of the Caribbean: At World's End\", 'Spectre',\n",
       "       ..., 'Signed, Sealed, Delivered', 'Shanghai Calling',\n",
       "       'My Date with Drew'], dtype=object)"
      ]
     },
     "execution_count": 4,
     "metadata": {},
     "output_type": "execute_result"
    }
   ],
   "source": [
    "new_df['title'].values"
   ]
  },
  {
   "cell_type": "code",
   "execution_count": 7,
   "id": "f50c7211-568b-404b-8524-a6046ab73301",
   "metadata": {
    "scrolled": true
   },
   "outputs": [],
   "source": [
    "pickle.dump(new_df.to_dict(),open('movies_dict.pkl','wb'))"
   ]
  },
  {
   "cell_type": "code",
   "execution_count": 8,
   "id": "cee20887-5084-4e3c-ae9f-bfacc292bb37",
   "metadata": {},
   "outputs": [],
   "source": [
    "pickle.dump(similarity,open('similarity.pkl','wb'))"
   ]
  }
 ],
 "metadata": {
  "kernelspec": {
   "display_name": "Python 3 (ipykernel)",
   "language": "python",
   "name": "python3"
  },
  "language_info": {
   "codemirror_mode": {
    "name": "ipython",
    "version": 3
   },
   "file_extension": ".py",
   "mimetype": "text/x-python",
   "name": "python",
   "nbconvert_exporter": "python",
   "pygments_lexer": "ipython3",
   "version": "3.11.7"
  }
 },
 "nbformat": 4,
 "nbformat_minor": 5
}
